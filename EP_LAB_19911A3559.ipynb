{
  "nbformat": 4,
  "nbformat_minor": 0,
  "metadata": {
    "colab": {
      "name": "EP_LAB_19911A3559.ipynb",
      "provenance": [],
      "authorship_tag": "ABX9TyNbbxOen4/zbPTMk0pALx/h",
      "include_colab_link": true
    },
    "kernelspec": {
      "name": "python3",
      "display_name": "Python 3"
    },
    "language_info": {
      "name": "python"
    }
  },
  "cells": [
    {
      "cell_type": "markdown",
      "metadata": {
        "id": "view-in-github",
        "colab_type": "text"
      },
      "source": [
        "<a href=\"https://colab.research.google.com/github/YashviKommidi/LAB-PROGRAMS/blob/main/EP_LAB_19911A3559.ipynb\" target=\"_parent\"><img src=\"https://colab.research.google.com/assets/colab-badge.svg\" alt=\"Open In Colab\"/></a>"
      ]
    },
    {
      "cell_type": "markdown",
      "metadata": {
        "id": "8ZHKnWPIdTZJ"
      },
      "source": [
        "## **EXERCISE 1**"
      ]
    },
    {
      "cell_type": "markdown",
      "metadata": {
        "id": "efk8eHuliCka"
      },
      "source": [
        "# a)Installation and Environment setup in Python"
      ]
    },
    {
      "cell_type": "markdown",
      "metadata": {
        "id": "fBd1Ulj7NRvu"
      },
      "source": [
        ""
      ]
    },
    {
      "cell_type": "markdown",
      "metadata": {
        "id": "EwJ2VgOuhyfB"
      },
      "source": [
        "# b)Program to demonstrate the use of basic data types"
      ]
    },
    {
      "cell_type": "code",
      "metadata": {
        "colab": {
          "base_uri": "https://localhost:8080/"
        },
        "id": "wck06XWBLl8a",
        "outputId": "d3d52f2a-347b-4703-d8d7-e65f57633237"
      },
      "source": [
        "x = 20     #int\n",
        "print(x)\n",
        "print(type(x))\n",
        "x = 20.5 #float\n",
        "print(x)\n",
        "print(type(x))\n",
        "x = 1j        #complex\n",
        "print(x)\n",
        "print(type(x))"
      ],
      "execution_count": 1,
      "outputs": [
        {
          "output_type": "stream",
          "name": "stdout",
          "text": [
            "20\n",
            "<class 'int'>\n",
            "20.5\n",
            "<class 'float'>\n",
            "1j\n",
            "<class 'complex'>\n"
          ]
        }
      ]
    },
    {
      "cell_type": "code",
      "metadata": {
        "colab": {
          "base_uri": "https://localhost:8080/"
        },
        "id": "gExUQNnBZ8NB",
        "outputId": "2eb5107f-aae7-4070-92d1-3e5b45807319"
      },
      "source": [
        "#NUMERIC\n",
        "#int\n",
        "a=int(input(\"enter num\"))\n",
        "b=int(input(\"enter num\"))\n",
        "c=a+b\n",
        "print(\"sum is\",c)\n",
        "print(type(c))\n",
        "\n"
      ],
      "execution_count": 2,
      "outputs": [
        {
          "output_type": "stream",
          "name": "stdout",
          "text": [
            "enter num20\n",
            "enter num30\n",
            "sum is 50\n",
            "<class 'int'>\n"
          ]
        }
      ]
    },
    {
      "cell_type": "code",
      "metadata": {
        "colab": {
          "base_uri": "https://localhost:8080/"
        },
        "id": "xEsCBWvuaocF",
        "outputId": "150606f0-1a16-4a51-aa3d-f59b38c9c925"
      },
      "source": [
        "#1.b)float\n",
        "a=float(input(\"enter num\"))\n",
        "b=float(input(\"enter num\"))\n",
        "c=a+b\n",
        "print(\"sum is\",c)\n",
        "print(type(c))\n"
      ],
      "execution_count": 3,
      "outputs": [
        {
          "output_type": "stream",
          "name": "stdout",
          "text": [
            "enter num20.90\n",
            "enter num0.89\n",
            "sum is 21.79\n",
            "<class 'float'>\n"
          ]
        }
      ]
    },
    {
      "cell_type": "code",
      "metadata": {
        "colab": {
          "base_uri": "https://localhost:8080/"
        },
        "id": "MRHjcPsfauHB",
        "outputId": "5ad84ee3-7a13-4086-f56b-6e8b31f270e2"
      },
      "source": [
        "\n",
        "#1.c)complex\n",
        "a=complex(input(\"enter num\"))\n",
        "b=complex(input(\"enter num\"))\n",
        "c=a+b\n",
        "print(\"sum is\",c)\n",
        "print(type(c))\n",
        "\n"
      ],
      "execution_count": 4,
      "outputs": [
        {
          "output_type": "stream",
          "name": "stdout",
          "text": [
            "enter num21J\n",
            "enter num12\n",
            "sum is (12+21j)\n",
            "<class 'complex'>\n"
          ]
        }
      ]
    },
    {
      "cell_type": "code",
      "metadata": {
        "colab": {
          "base_uri": "https://localhost:8080/"
        },
        "id": "r_hwowyibCoJ",
        "outputId": "0e38dd6e-afe5-4024-876e-73d595745a6d"
      },
      "source": [
        "#2.BOOLEAN\n",
        "print(10 > 9)\n",
        "print(10 == 9)\n",
        "print(10 < 9)"
      ],
      "execution_count": 5,
      "outputs": [
        {
          "output_type": "stream",
          "name": "stdout",
          "text": [
            "True\n",
            "False\n",
            "False\n"
          ]
        }
      ]
    },
    {
      "cell_type": "code",
      "metadata": {
        "colab": {
          "base_uri": "https://localhost:8080/"
        },
        "id": "u_1DtZevbIeD",
        "outputId": "6bfa8e03-e95d-4951-f185-7b11ad59d763"
      },
      "source": [
        "#3.SET\n",
        "Set = {1, 2, 3}# set of integers\n",
        "print(Set)\n",
        "Set = {1.0, \"Hello\", (1, 2, 3)}# set of mixed datatypes\n",
        "print(Set)\n",
        "print(type(Set))"
      ],
      "execution_count": 6,
      "outputs": [
        {
          "output_type": "stream",
          "name": "stdout",
          "text": [
            "{1, 2, 3}\n",
            "{1.0, 'Hello', (1, 2, 3)}\n",
            "<class 'set'>\n"
          ]
        }
      ]
    },
    {
      "cell_type": "code",
      "metadata": {
        "colab": {
          "base_uri": "https://localhost:8080/"
        },
        "id": "C54UFVNdbKfd",
        "outputId": "c7cd8b3c-3457-4199-90f7-30dfec34b199"
      },
      "source": [
        "#SEQUENCE TYPE\n",
        "#a)Strings\n",
        "my_string = \"Hello\"\n",
        "print(my_string)\n",
        "my_string = \"\"\"Hello, this is a python program for writing sequence type \n",
        "                  functions \"\"\"\n",
        "print(my_string)              \n",
        "print(my_string[0:16])\n",
        "print(my_string[:-10])\n",
        "print(type(my_string))\n",
        "print(\"-------------\")\n",
        "#b)list\n",
        "my_list = ['a','b','c','d','e']\n",
        "print(my_list)\n",
        "print(my_list[2])\n",
        "print(my_list[-1])\n",
        "print(type(my_list))\n",
        "print(\"------------\")\n",
        "#c)Tuple\n",
        "tup=('INDIA','SOUTHKOREA','USA','RUSSIA','LONDON','CANADA')\n",
        "print(tup)\n",
        "print(tup[0])\n",
        "print(tup[1:4])\n",
        "print(type(tup))\n",
        "print(\"-------------\")\n",
        "#DICTIONARY\n",
        "my_dict = {'name': 'IRON MAN', 'age': 120}\n",
        "print(my_dict)\n",
        "print(my_dict['name'])\n",
        "print(my_dict.get('age'))\n",
        "print(type(my_dict))"
      ],
      "execution_count": 7,
      "outputs": [
        {
          "output_type": "stream",
          "name": "stdout",
          "text": [
            "Hello\n",
            "Hello, this is a python program for writing sequence type \n",
            "                  functions \n",
            "Hello, this is a\n",
            "Hello, this is a python program for writing sequence type \n",
            "                  \n",
            "<class 'str'>\n",
            "-------------\n",
            "['a', 'b', 'c', 'd', 'e']\n",
            "c\n",
            "e\n",
            "<class 'list'>\n",
            "------------\n",
            "('INDIA', 'SOUTHKOREA', 'USA', 'RUSSIA', 'LONDON', 'CANADA')\n",
            "INDIA\n",
            "('SOUTHKOREA', 'USA', 'RUSSIA')\n",
            "<class 'tuple'>\n",
            "-------------\n",
            "{'name': 'IRON MAN', 'age': 120}\n",
            "IRON MAN\n",
            "120\n",
            "<class 'dict'>\n"
          ]
        }
      ]
    },
    {
      "cell_type": "markdown",
      "metadata": {
        "id": "Ye__Zuqah4Fh"
      },
      "source": [
        "# c)Program to demonstrate the operators and Expressions"
      ]
    },
    {
      "cell_type": "code",
      "metadata": {
        "colab": {
          "base_uri": "https://localhost:8080/"
        },
        "id": "Xq2TiW48h68b",
        "outputId": "b156e7ff-e075-4782-957c-6b80650fcf47"
      },
      "source": [
        "# Examples of Arithmetic Operator \n",
        "a = 12\n",
        "b = 5\n",
        "# Addition of numbers \n",
        "add = a + b \n",
        "# Subtraction of numbers \n",
        "sub = a - b \n",
        "# Multiplication of number \n",
        "mul = a * b \n",
        "# Division(float) of number \n",
        "div1 = a / b \n",
        "# Division(floor) of number \n",
        "div2 = a // b \n",
        "# Modulo of both number \n",
        "mod = a % b \n",
        "# Power\n",
        "p = a ** b\n",
        "# print results \n",
        "print(add) \n",
        "print(sub) \n",
        "print(mul) \n",
        "print(div1) \n",
        "print(div2) \n",
        "print(mod)\n",
        "print(p)"
      ],
      "execution_count": 8,
      "outputs": [
        {
          "output_type": "stream",
          "name": "stdout",
          "text": [
            "17\n",
            "7\n",
            "60\n",
            "2.4\n",
            "2\n",
            "2\n",
            "248832\n"
          ]
        }
      ]
    },
    {
      "cell_type": "code",
      "metadata": {
        "colab": {
          "base_uri": "https://localhost:8080/"
        },
        "id": "u4VDQnMwhQ7D",
        "outputId": "8fb89927-59a4-48df-ef75-bbf21a6e1511"
      },
      "source": [
        "#Relatinal operators\n",
        "print(a > b)\n",
        "print(a < b)\n",
        "print(a == b)\n",
        "print(a != b)\n",
        "print(a >= b)\n",
        "print(a <= b)"
      ],
      "execution_count": 9,
      "outputs": [
        {
          "output_type": "stream",
          "name": "stdout",
          "text": [
            "True\n",
            "False\n",
            "False\n",
            "True\n",
            "True\n",
            "False\n"
          ]
        }
      ]
    },
    {
      "cell_type": "code",
      "metadata": {
        "id": "W74WL11xhX3q",
        "colab": {
          "base_uri": "https://localhost:8080/"
        },
        "outputId": "d5b1ebc4-b748-47e5-9f70-a65598e91935"
      },
      "source": [
        "#Bitwise operators\n",
        "print(a & b)              #bitwise AND operation  \n",
        "print(a | b)              #bitwise OR operation\n",
        "print(~a)                 #bitwise NOT operation \n",
        "print(a ^ b)              #bitwise XOR operation \n",
        "print(a >> 2)             #bitwise right shift operation \n",
        "print(a << 2)             #bitwise left shift operation"
      ],
      "execution_count": 10,
      "outputs": [
        {
          "output_type": "stream",
          "name": "stdout",
          "text": [
            "4\n",
            "13\n",
            "-13\n",
            "9\n",
            "3\n",
            "48\n"
          ]
        }
      ]
    },
    {
      "cell_type": "code",
      "metadata": {
        "id": "8VXBRBoVhcQ6",
        "colab": {
          "base_uri": "https://localhost:8080/"
        },
        "outputId": "dfdc2a01-3fdd-4e26-a764-bf87901bc6f9"
      },
      "source": [
        "#Identity operators\n",
        "print(a is not b) \n",
        "print(a is b)"
      ],
      "execution_count": 11,
      "outputs": [
        {
          "output_type": "stream",
          "name": "stdout",
          "text": [
            "True\n",
            "False\n"
          ]
        }
      ]
    },
    {
      "cell_type": "code",
      "metadata": {
        "id": "k0T1d2VihfGB",
        "colab": {
          "base_uri": "https://localhost:8080/"
        },
        "outputId": "168ecc05-6ff1-4625-d6fb-a82a20d59820"
      },
      "source": [
        "#Logical operators\n",
        "S=True\n",
        "T=False\n",
        "print(S and T)\n",
        "print(S or T)\n",
        "print(not S)\n",
        "print(not T)"
      ],
      "execution_count": 12,
      "outputs": [
        {
          "output_type": "stream",
          "name": "stdout",
          "text": [
            "False\n",
            "True\n",
            "False\n",
            "True\n"
          ]
        }
      ]
    },
    {
      "cell_type": "code",
      "metadata": {
        "id": "teDCTI38hiLL",
        "colab": {
          "base_uri": "https://localhost:8080/"
        },
        "outputId": "2529229d-3e87-45a3-8ad6-b3a9b173a0c0"
      },
      "source": [
        "#Assignment operators\n",
        "a+=b\n",
        "print(a)\n",
        "a-=b\n",
        "print(a)\n",
        "a*=b\n",
        "print(a)\n",
        "a/=b\n",
        "print(a)\n",
        "a%=b\n",
        "print(a)\n",
        "a//=b\n",
        "print(a)\n",
        "a**=b\n",
        "print(a)"
      ],
      "execution_count": 13,
      "outputs": [
        {
          "output_type": "stream",
          "name": "stdout",
          "text": [
            "17\n",
            "12\n",
            "60\n",
            "12.0\n",
            "2.0\n",
            "0.0\n",
            "0.0\n"
          ]
        }
      ]
    },
    {
      "cell_type": "code",
      "metadata": {
        "id": "a5xOC2QIhkrI",
        "colab": {
          "base_uri": "https://localhost:8080/"
        },
        "outputId": "727333c5-37fb-453a-80cb-a74d35f7b0c0"
      },
      "source": [
        "#Membership operators\n",
        "x = 'Department of Artificial Intelligence'\n",
        "y = {1:'a',2:'b'}\n",
        "print('D' in x)\n",
        "print('of' not in x)\n",
        "print('Of' not in x)\n",
        "print(1 in y)\n",
        "print('e' in y)"
      ],
      "execution_count": 14,
      "outputs": [
        {
          "output_type": "stream",
          "name": "stdout",
          "text": [
            "True\n",
            "False\n",
            "True\n",
            "True\n",
            "False\n"
          ]
        }
      ]
    },
    {
      "cell_type": "markdown",
      "metadata": {
        "id": "BA0KuvIAiIlq"
      },
      "source": [
        "# d)Program to demonstrate the Functions and parameter passing techniques"
      ]
    },
    {
      "cell_type": "code",
      "metadata": {
        "id": "TofSBa6GiN5L"
      },
      "source": [
        "def my_function():\n",
        "  print(\"Hello from a function\")"
      ],
      "execution_count": 15,
      "outputs": []
    },
    {
      "cell_type": "code",
      "metadata": {
        "colab": {
          "base_uri": "https://localhost:8080/"
        },
        "id": "qQWdJZ4KiQRG",
        "outputId": "1d4eeb5c-1364-4921-b10e-71c4751d3b11"
      },
      "source": [
        "def my_function():\n",
        "  print(\"this is a function\")\n",
        "my_function()"
      ],
      "execution_count": 16,
      "outputs": [
        {
          "output_type": "stream",
          "name": "stdout",
          "text": [
            "this is a function\n"
          ]
        }
      ]
    },
    {
      "cell_type": "code",
      "metadata": {
        "colab": {
          "base_uri": "https://localhost:8080/"
        },
        "id": "Z-g5Nx8QiQ5O",
        "outputId": "f2642fc7-c9df-4c4a-a214-43a88f9a8694"
      },
      "source": [
        "def my_function(fname):\n",
        "  print(fname + \" today\")\n",
        "my_function(\"tomorrow\")\n",
        "my_function(\"yesterday\")\n",
        "my_function(\"day after tomorrow\")"
      ],
      "execution_count": 17,
      "outputs": [
        {
          "output_type": "stream",
          "name": "stdout",
          "text": [
            "tomorrow today\n",
            "yesterday today\n",
            "day after tomorrow today\n"
          ]
        }
      ]
    },
    {
      "cell_type": "markdown",
      "metadata": {
        "id": "DqDjFGmVi941"
      },
      "source": [
        "# **EXERCISE 2**"
      ]
    },
    {
      "cell_type": "markdown",
      "metadata": {
        "id": "BKPqVNCOjUos"
      },
      "source": [
        "#a)Program to implement\n",
        "* Packages \n",
        "* Modules\n",
        "* Buil-in functions "
      ]
    },
    {
      "cell_type": "code",
      "metadata": {
        "colab": {
          "base_uri": "https://localhost:8080/"
        },
        "id": "vYkKie_7mUFq",
        "outputId": "058554e0-50c5-441c-f753-f42edeb08981"
      },
      "source": [
        "#1.Absolute\n",
        "print(\"ABSOLUTE\")\n",
        "print('Absolute of -10.589 = ', abs(-10.589))\n",
        "#2.Binary\n",
        "print(\"BINARY\")\n",
        "print(\"Binary Equalent of 16\", bin(16))\n",
        "#3.Quotient and remainder\n",
        "print(\"QUOTIENT AND REMAINDER\")\n",
        "print(\"Quotient and remainder of 10/5 = \" , divmod(10,5))\n",
        "#4.Float\n",
        "print(\"FLOAT\")\n",
        "print(\"float value of 10 = \", float(10))\n",
        "#5.Int\n",
        "print(\"INT\")\n",
        "print(\"int value of 10.2 =\", int(10.2))\n",
        "#6.Max\n",
        "print(\"MAX\")\n",
        "print(\"Maximum of 10,20,30 = \", max(10,20,30))\n",
        "#7.Min\n",
        "print(\"MIN\")\n",
        "print(\"Minimum of 10,20,30 = \", min(10,20,30))\n",
        "#8.Power\n",
        "print(\"POWER\")\n",
        "print(\"2 power 4 = \", pow(2,4))\n",
        "#9.Evaluate\n",
        "print(\"EVALUATE\")\n",
        "x=2\n",
        "print(\"Evaluate value of x**2 = \",eval('x**2'))\n",
        "import math\n",
        "#9.Square root\n",
        "print(\"SQUARE ROOT\")\n",
        "print(\"Square root of 25 = \" ,math.sqrt(25))\n"
      ],
      "execution_count": 18,
      "outputs": [
        {
          "output_type": "stream",
          "name": "stdout",
          "text": [
            "ABSOLUTE\n",
            "Absolute of -10.589 =  10.589\n",
            "BINARY\n",
            "Binary Equalent of 16 0b10000\n",
            "QUOTIENT AND REMAINDER\n",
            "Quotient and remainder of 10/5 =  (2, 0)\n",
            "FLOAT\n",
            "float value of 10 =  10.0\n",
            "INT\n",
            "int value of 10.2 = 10\n",
            "MAX\n",
            "Maximum of 10,20,30 =  30\n",
            "MIN\n",
            "Minimum of 10,20,30 =  10\n",
            "POWER\n",
            "2 power 4 =  16\n",
            "EVALUATE\n",
            "Evaluate value of x**2 =  4\n",
            "SQUARE ROOT\n",
            "Square root of 25 =  5.0\n"
          ]
        }
      ]
    },
    {
      "cell_type": "code",
      "metadata": {
        "id": "8R_PiY_ykfRn"
      },
      "source": [
        "#creating a module\n",
        "def greeting(name):\n",
        "  print(\"Hello, \" + name)\n",
        "#using a module \n",
        "  import mymodule\n",
        "\n",
        "  mymodule.greeting(\"Jonathan\")\n"
      ],
      "execution_count": 19,
      "outputs": []
    },
    {
      "cell_type": "code",
      "metadata": {
        "colab": {
          "base_uri": "https://localhost:8080/"
        },
        "id": "7jCT9VbdFxzc",
        "outputId": "dddae2c9-94ae-4dc2-c80b-a19c18b150fe"
      },
      "source": [
        "# importing built-in module math\n",
        "import math\n",
        "\n",
        "# using square root(sqrt) function contained\n",
        "# in math module\n",
        "print(math.sqrt(25))\n",
        "\n",
        "# using pi function contained in math module\n",
        "print(math.pi)\n",
        "\n",
        "# 2 radians = 114.59 degreees\n",
        "print(math.degrees(2))\n",
        "\n",
        "# 60 degrees = 1.04 radians\n",
        "print(math.radians(60))\n",
        "\n",
        "# Sine of 2 radians\n",
        "print(math.sin(2))\n",
        "\n",
        "# Cosine of 0.5 radians\n",
        "print(math.cos(0.5))\n",
        "\n",
        "# Tangent of 0.23 radians\n",
        "print(math.tan(0.23))\n",
        "\n",
        "# 1 * 2 * 3 * 4 = 24\n",
        "print(math.factorial(4))\n",
        "\n",
        "# importing built in module random\n",
        "import random\n",
        "\n",
        "# printing random integer between 0 and 5\n",
        "print(random.randint(0, 5))\n",
        "\n",
        "# print random floating point number between 0 and 1\n",
        "print(random.random())\n",
        "\n",
        "# random number between 0 and 100\n",
        "print(random.random() * 100)\n",
        "\n",
        "List = [1, 4, True, 800, \"python\", 27, \"hello\"]\n",
        "\n",
        "# using choice function in random module for choosing\n",
        "# a random element from a set such as a list\n",
        "print(random.choice(List))\n",
        "\n",
        "\n",
        "# importing built in module datetime\n",
        "import datetime\n",
        "from datetime import date\n",
        "import time\n",
        "\n",
        "# Returns the number of seconds since the\n",
        "# Unix Epoch, January 1st 1970\n",
        "print(time.time())\n",
        "\n",
        "# Converts a number of seconds to a date object\n",
        "print(date.fromtimestamp(454554))\n"
      ],
      "execution_count": 20,
      "outputs": [
        {
          "output_type": "stream",
          "name": "stdout",
          "text": [
            "5.0\n",
            "3.141592653589793\n",
            "114.59155902616465\n",
            "1.0471975511965976\n",
            "0.9092974268256817\n",
            "0.8775825618903728\n",
            "0.23414336235146527\n",
            "24\n",
            "5\n",
            "0.8620426930514461\n",
            "39.43280707416592\n",
            "4\n",
            "1630385139.8347335\n",
            "1970-01-06\n"
          ]
        }
      ]
    },
    {
      "cell_type": "markdown",
      "metadata": {
        "id": "77VcCbwsmWRB"
      },
      "source": [
        "# b)Program to implement \n",
        "* List\n",
        "* Tuple\n",
        "* Dictionaries"
      ]
    },
    {
      "cell_type": "code",
      "metadata": {
        "colab": {
          "base_uri": "https://localhost:8080/"
        },
        "id": "_-DdnM5MmW6C",
        "outputId": "1306b337-2878-413e-85d7-7b44b47ccb48"
      },
      "source": [
        "test_list =['Hello',5,13,28,'SRY','welcome',]\n",
        "print(test_list)\n",
        "test_tuples = ('Hello',1,2)\n",
        "print(test_tuples)\n",
        "test_dict = {'key1': 4+4,'key2': 7+7 ,'key4' :8+8}\n",
        "print(test_dict)"
      ],
      "execution_count": 21,
      "outputs": [
        {
          "output_type": "stream",
          "name": "stdout",
          "text": [
            "['Hello', 5, 13, 28, 'SRY', 'welcome']\n",
            "('Hello', 1, 2)\n",
            "{'key1': 8, 'key2': 14, 'key4': 16}\n"
          ]
        }
      ]
    },
    {
      "cell_type": "markdown",
      "metadata": {
        "id": "ujJYxrwkmgNS"
      },
      "source": [
        "# c)Programs on String,String Operations and Regular Expressions"
      ]
    },
    {
      "cell_type": "code",
      "metadata": {
        "colab": {
          "base_uri": "https://localhost:8080/"
        },
        "id": "hRrBwr56mim5",
        "outputId": "117e383c-fa0a-4121-96d3-9b835a052f64"
      },
      "source": [
        "# String \n",
        "str1 = 'Hello, '\n",
        "str2 = 'this is avengers.'\n",
        "print(str1+str2)"
      ],
      "execution_count": 22,
      "outputs": [
        {
          "output_type": "stream",
          "name": "stdout",
          "text": [
            "Hello, this is avengers.\n"
          ]
        }
      ]
    },
    {
      "cell_type": "code",
      "metadata": {
        "colab": {
          "base_uri": "https://localhost:8080/"
        },
        "id": "-YMHmeLvmlO5",
        "outputId": "2603e41a-7bb6-43a4-a7a7-2b3ab89fde80"
      },
      "source": [
        "# String operations\n",
        "s = \"string operation and regular expressions program in python\"\n",
        "print(\"Length of s = %d\" % len(s))\n",
        "print(\"The first occurrence of the letter g = %d\" % s.index(\"g\"))\n",
        "print(\"g occurs %d times\" % s.count(\"g\"))\n",
        "print(\"The first five characters are '%s'\" % s[:5]) \n",
        "print(\"The next five characters are '%s'\" % s[5:10]) \n",
        "print(\"The thirteenth character is '%s'\" % s[12]) \n",
        "print(\"The characters with odd index are '%s'\" %s[1::2])\n",
        "print(\"The last five characters are '%s'\" % s[-5:]) \n",
        "print(\"String in uppercase: %s\" % s.upper())\n",
        "print(\"String in lowercase: %s\" % s.lower())\n",
        "if s.startswith(\"Don\"):\n",
        "    print(\"String starts with 'Don'. Good!\")\n",
        "if s.endswith(\"ood!\"):\n",
        "    print(\"String ends with 'ood!'. Good!\")\n",
        "print(\"Split the words of the string: %s\" % s.split(\" \"))"
      ],
      "execution_count": 23,
      "outputs": [
        {
          "output_type": "stream",
          "name": "stdout",
          "text": [
            "Length of s = 58\n",
            "The first occurrence of the letter g = 5\n",
            "g occurs 3 times\n",
            "The first five characters are 'strin'\n",
            "The next five characters are 'g ope'\n",
            "The thirteenth character is 't'\n",
            "The characters with odd index are 'tigoeainadrglrepesospormi yhn'\n",
            "The last five characters are 'ython'\n",
            "String in uppercase: STRING OPERATION AND REGULAR EXPRESSIONS PROGRAM IN PYTHON\n",
            "String in lowercase: string operation and regular expressions program in python\n",
            "Split the words of the string: ['string', 'operation', 'and', 'regular', 'expressions', 'program', 'in', 'python']\n"
          ]
        }
      ]
    },
    {
      "cell_type": "markdown",
      "metadata": {
        "id": "B4vHre3a5vYn"
      },
      "source": [
        "#**EXERCISE 3**"
      ]
    },
    {
      "cell_type": "markdown",
      "metadata": {
        "id": "GdIXMYB5j42T"
      },
      "source": [
        "# WRITE A PROGRAM TO IMPLEMENT CLASS AND OBJECTS"
      ]
    },
    {
      "cell_type": "code",
      "metadata": {
        "colab": {
          "base_uri": "https://localhost:8080/"
        },
        "id": "Mcp2UyKQkBAj",
        "outputId": "3570044d-e713-4810-881a-ab796063e01c"
      },
      "source": [
        "#classes and objects without constructor\n",
        "print(\"WITHOUT CONSTRUCTOR\")\n",
        "class person:\n",
        "    pass\n",
        "male=person()#object1\n",
        "female=person()#object2\n",
        "male.name='CAPTAIN AMERICA'\n",
        "male.age=24\n",
        "female.name='WONDER WOMEN'\n",
        "female.age=18\n",
        "print(male.__dict__)\n",
        "print(female.age)\n",
        "print(female.__dict__)\n",
        "#classes and objects with constructor\n",
        "print(\"WITH CONSTRUCTOR\")\n",
        "class person:\n",
        "    def __init__(self,name,age):\n",
        "        self.name=name\n",
        "        self.age=age\n",
        "male=person('CAPTAIN AMERICA',34)\n",
        "female=person('WONDER WOMEN',30)\n",
        "male.lastname='AVENGERS'\n",
        "print(male.__dict__)#dict keyword gives all d info about object\n",
        "print(female.age)\n",
        "print(female.__dict__)"
      ],
      "execution_count": 24,
      "outputs": [
        {
          "output_type": "stream",
          "name": "stdout",
          "text": [
            "WITHOUT CONSTRUCTOR\n",
            "{'name': 'CAPTAIN AMERICA', 'age': 24}\n",
            "18\n",
            "{'name': 'WONDER WOMEN', 'age': 18}\n",
            "WITH CONSTRUCTOR\n",
            "{'name': 'CAPTAIN AMERICA', 'age': 34, 'lastname': 'AVENGERS'}\n",
            "30\n",
            "{'name': 'WONDER WOMEN', 'age': 30}\n"
          ]
        }
      ]
    },
    {
      "cell_type": "markdown",
      "metadata": {
        "id": "bTocqIQck1_D"
      },
      "source": [
        "# Write a program to implement static and instance methods,Abstract classes and interfaces"
      ]
    },
    {
      "cell_type": "code",
      "metadata": {
        "colab": {
          "base_uri": "https://localhost:8080/"
        },
        "id": "ghjurScwk3nj",
        "outputId": "da3030f0-f190-41d5-a5e6-ddf89bd80201"
      },
      "source": [
        "#Implement static and instance methods\n",
        "print(\"STATIC AND INSTANCE METHODS\")\n",
        "class Shape:\n",
        "    def rectArea(self,l,b):\n",
        "        return(l*b)\n",
        "    @classmethod\n",
        "    def sqArea(cls,s):\n",
        "        return(s*s)\n",
        "    @staticmethod\n",
        "    def CircleArea(r):\n",
        "        return(3.14*r*r)\n",
        "s=Shape()        \n",
        "print(\"Area of Rectangle = \",s.rectArea(2,4))\n",
        "#calling a class method\n",
        "print(\"Area of Square = \",Shape.sqArea(3))\n",
        "#calling a static method\n",
        "print(\"Area of Circle = \",Shape.CircleArea(2))\n",
        "\n",
        "#Abstract class\n",
        "print(\"ABSTRACT CLASS\")\n",
        "from abc import ABC,abstractmethod\n",
        "class Animal(ABC):\n",
        "  @abstractmethod\n",
        "  def eat(self):\n",
        "    pass\n",
        "class Tiger(Animal):\n",
        "  def eat(self):\n",
        "    print(\"Eat non-veg\")\n",
        "class Cow(Animal):\n",
        "  def eat(self):\n",
        "    print(\"Eat veg\")\n",
        "t=Tiger()\n",
        "t.eat()\n",
        "c=Cow()\n",
        "c.eat()"
      ],
      "execution_count": 25,
      "outputs": [
        {
          "output_type": "stream",
          "name": "stdout",
          "text": [
            "STATIC AND INSTANCE METHODS\n",
            "Area of Rectangle =  8\n",
            "Area of Square =  9\n",
            "Area of Circle =  12.56\n",
            "ABSTRACT CLASS\n",
            "Eat non-veg\n",
            "Eat veg\n"
          ]
        }
      ]
    },
    {
      "cell_type": "markdown",
      "metadata": {
        "id": "-dYwmChilOxN"
      },
      "source": [
        "# Write a program to compute distance between two points taking input from the user(pythagorean theorm)"
      ]
    },
    {
      "cell_type": "code",
      "metadata": {
        "id": "EN9hrGDSlOQp",
        "colab": {
          "base_uri": "https://localhost:8080/"
        },
        "outputId": "2bd5abd9-406c-4da7-e264-ef131ff411b7"
      },
      "source": [
        "8x1=int(input(\"enter x1 : \"))\n",
        "x2=int(input(\"enter x2 : \"))\n",
        "y1=int(input(\"enter y1 : \"))\n",
        "y2=int(input(\"enter y2 : \"))\n",
        "result= ((((x2 - x1 )**2) + ((y2-y1)**2) )**0.5)\n",
        "print(\"distance between\",(x1,x2),\"and\",(y1,y2),\"is : \",result)"
      ],
      "execution_count": 26,
      "outputs": [
        {
          "output_type": "stream",
          "name": "stdout",
          "text": [
            "enter x1 : 12\n",
            "enter x2 : 67\n",
            "enter y1 : 13\n",
            "enter y2 : 9\n",
            "distance between (12, 67) and (13, 9) is :  55.14526271584895\n"
          ]
        }
      ]
    },
    {
      "cell_type": "markdown",
      "metadata": {
        "id": "QYiJyAH9md0K"
      },
      "source": [
        "#**EXERCISE 4**"
      ]
    },
    {
      "cell_type": "markdown",
      "metadata": {
        "id": "WACcLLiqmi6Z"
      },
      "source": [
        "# Write a program to implement inheritence and polymorphism"
      ]
    },
    {
      "cell_type": "code",
      "metadata": {
        "colab": {
          "base_uri": "https://localhost:8080/"
        },
        "id": "ZPP3M8Mem4FZ",
        "outputId": "51ed522f-9a3a-4d40-fee4-8fadaaa500af"
      },
      "source": [
        "#parent class\n",
        "class Employee:\n",
        "  def __init__(self,name,id):\n",
        "    self.name = name\n",
        "    self.id = id\n",
        "\n",
        "\n",
        "  def employeeData(self):\n",
        "    print(\"-\"*20)\n",
        "    print(\"Employee Name: \", self.name)\n",
        "    print(\"Employee ID: \",self.id)\n",
        "\n",
        "\n",
        "#child class\n",
        "class ProjectManager(Employee):\n",
        "  def __init__(self, name, id, current_project):\n",
        "    Employee.__init__(self,name,id)\n",
        "    #new property\n",
        "    self.current_project = current_project \n",
        "\n",
        "#child class\n",
        "class SDE(Employee):\n",
        "  def __init__(self, name, id, current_team):\n",
        "    Employee.__init__(self, name, id)\n",
        "    #new property\n",
        "    self.current_team = current_team\n",
        "\n",
        "\n",
        "p1 = ProjectManager(\"SPIDER MAN\", 65789, \"WEB CREATOR\")\n",
        "p1.employeeData()\n",
        "print(p1.current_project)\n",
        "\n",
        "\n",
        "s1 = SDE(\"IRON MAN\", 8312339, \"HEAD\")\n",
        "s1.employeeData()\n",
        "print(s1.current_team)"
      ],
      "execution_count": 27,
      "outputs": [
        {
          "output_type": "stream",
          "name": "stdout",
          "text": [
            "--------------------\n",
            "Employee Name:  SPIDER MAN\n",
            "Employee ID:  65789\n",
            "WEB CREATOR\n",
            "--------------------\n",
            "Employee Name:  IRON MAN\n",
            "Employee ID:  8312339\n",
            "HEAD\n"
          ]
        }
      ]
    },
    {
      "cell_type": "markdown",
      "metadata": {
        "id": "40lv8akjnvG5"
      },
      "source": [
        "# Write a program to implement files"
      ]
    },
    {
      "cell_type": "code",
      "metadata": {
        "colab": {
          "base_uri": "https://localhost:8080/"
        },
        "id": "LW3n3ZAGny6C",
        "outputId": "33a157f6-a7b1-4343-9b96-c459fa85a45d"
      },
      "source": [
        "# Writing a file.\n",
        "file_object = open('1st_file.txt',\"w+\")\n",
        "for i in range(4):\n",
        "  file_object.write(\"IRON MAN GUIDES SPIDER MAN.\\n\")\n",
        "file_object.close()\n",
        "# Reading the file.\n",
        "file_object = open ('1st_file.txt',\"r\")\n",
        "if file_object.mode == 'r':\n",
        "  words = file_object.read()\n",
        "print(words)\n",
        "# Appending a file\n",
        "file_object = open('1st_file.txt',\"a+\")\n",
        "for i in range(0,4,2):\n",
        "     file_object.write(\"\")\n",
        "file_object.close()\n",
        "# Reading after appending.\n",
        "file_object = open('1st_file.txt',\"r\")\n",
        "if file_object.mode == \"r\":\n",
        "  contents = file_object.read()\n",
        "print(contents)# Appending a file\n",
        "file_object = open('1st_file.txt',\"a+\")\n",
        "for i in range(0,4,2):\n",
        "     file_object.write(\"\")\n",
        "file_object.close()\n",
        "# Reading after appending.\n",
        "file_object = open('1st_file.txt',\"r\")\n",
        "if file_object.mode == \"r\":\n",
        "  contents = file_object.read()\n",
        "print(contents)"
      ],
      "execution_count": 28,
      "outputs": [
        {
          "output_type": "stream",
          "name": "stdout",
          "text": [
            "IRON MAN GUIDES SPIDER MAN.\n",
            "IRON MAN GUIDES SPIDER MAN.\n",
            "IRON MAN GUIDES SPIDER MAN.\n",
            "IRON MAN GUIDES SPIDER MAN.\n",
            "\n",
            "IRON MAN GUIDES SPIDER MAN.\n",
            "IRON MAN GUIDES SPIDER MAN.\n",
            "IRON MAN GUIDES SPIDER MAN.\n",
            "IRON MAN GUIDES SPIDER MAN.\n",
            "\n",
            "IRON MAN GUIDES SPIDER MAN.\n",
            "IRON MAN GUIDES SPIDER MAN.\n",
            "IRON MAN GUIDES SPIDER MAN.\n",
            "IRON MAN GUIDES SPIDER MAN.\n",
            "\n"
          ]
        }
      ]
    },
    {
      "cell_type": "markdown",
      "metadata": {
        "id": "3ZUgjcjHoG37"
      },
      "source": [
        "# Write a program to illustrate handling"
      ]
    },
    {
      "cell_type": "code",
      "metadata": {
        "id": "zjaFnUfroLsR",
        "colab": {
          "base_uri": "https://localhost:8080/"
        },
        "outputId": "ed44092e-f4cf-41f8-b633-eb4b6439a0b8"
      },
      "source": [
        "try:\n",
        "    num=int(input(\"Enter numerator: \"))\n",
        "    den=int(input(\"enter denominator: \"))\n",
        "    q=num/den\n",
        "    print(\"Qutioent= \",q)\n",
        "except ZeroDivisionError:\n",
        "    print(\"Denominator is zero\")\n",
        "except ValueError:\n",
        "    print(\"Please eneter only digits\")\n",
        "finally:\n",
        "    print(\"'Final block'[executes all the time]\");\n"
      ],
      "execution_count": 29,
      "outputs": [
        {
          "output_type": "stream",
          "name": "stdout",
          "text": [
            "Enter numerator: 34\n",
            "enter denominator: 89\n",
            "Qutioent=  0.38202247191011235\n",
            "'Final block'[executes all the time]\n"
          ]
        }
      ]
    },
    {
      "cell_type": "markdown",
      "metadata": {
        "id": "VIp5xgoJoXzs"
      },
      "source": [
        "# **EXERCISE 5**"
      ]
    },
    {
      "cell_type": "markdown",
      "metadata": {
        "id": "191Ww_gpohA2"
      },
      "source": [
        "# Write a program using scikit-learn to implement K-means Clustering"
      ]
    },
    {
      "cell_type": "code",
      "metadata": {
        "colab": {
          "base_uri": "https://localhost:8080/",
          "height": 332
        },
        "id": "HlZ-w4d1olV7",
        "outputId": "0a6784b5-c7e3-4e24-a5b7-b3cceb134191"
      },
      "source": [
        "import matplotlib.pyplot as plt\n",
        "%matplotlib inline\n",
        "import numpy as np\n",
        "from sklearn.cluster import KMeans\n",
        "X = np.array([[5,3],\n",
        "     [20,85],\n",
        "     [45,82],\n",
        "     [14,90],\n",
        "     [30,35],\n",
        "     [85,85],\n",
        "     [71,98],\n",
        "     [69,78],\n",
        "     [25,52],\n",
        "     [90,91],])\n",
        "plt.scatter(X[:,0],X[:,1], label='True Position')\n",
        "kmeans = KMeans(n_clusters=2)\n",
        "kmeans.fit(X)\n",
        "print(kmeans.cluster_centers_)\n",
        "print(kmeans.labels_)\n",
        "plt.scatter(X[:,0],X[:,1], c=kmeans.labels_, cmap='rainbow')\n",
        "plt.scatter(X[:,0], X[:,1], c=kmeans.labels_, cmap='rainbow')\n",
        "plt.scatter(kmeans.cluster_centers_[:,0] ,kmeans.cluster_centers_[:,1], color='black')"
      ],
      "execution_count": 30,
      "outputs": [
        {
          "output_type": "stream",
          "name": "stdout",
          "text": [
            "[[18.8 53. ]\n",
            " [72.  86.8]]\n",
            "[0 0 1 0 0 1 1 1 0 1]\n"
          ]
        },
        {
          "output_type": "execute_result",
          "data": {
            "text/plain": [
              "<matplotlib.collections.PathCollection at 0x7f6cd9fa8b90>"
            ]
          },
          "metadata": {},
          "execution_count": 30
        },
        {
          "output_type": "display_data",
          "data": {
            "image/png": "[encoded data removed]",
            "text/plain": [
              "<Figure size 432x288 with 1 Axes>"
            ]
          },
          "metadata": {
            "needs_background": "light"
          }
        }
      ]
    },
    {
      "cell_type": "markdown",
      "metadata": {
        "id": "XW9In3lTpIeS"
      },
      "source": [
        "# Program to calculate entropy and information gain"
      ]
    },
    {
      "cell_type": "code",
      "metadata": {
        "id": "Lg6OcfP4pVY_"
      },
      "source": [
        "def calc_information_gain(data, split_name, target_name):\n",
        "    \"\"\"\n",
        "    Calculate information gain given a data set, column to split on, and target\n",
        "    \"\"\"\n",
        "    # Calculate the original entropy\n",
        "    original_entropy = calc_entropy(data[target_name])\n",
        "    \n",
        "    #Find the unique values in the column\n",
        "    values = data[split_name].unique()\n",
        "    \n",
        "    \n",
        "    # Make two subsets of the data, based on the unique values\n",
        "    left_split = data[data[split_name] == values[0]]\n",
        "    right_split = data[data[split_name] == values[1]]\n",
        "    \n",
        "    # Loop through the splits and calculate the subset entropies\n",
        "    to_subtract = 0\n",
        "    for subset in [left_split, right_split]:\n",
        "        prob = (subset.shape[0] / data.shape[0]) \n",
        "        to_subtract += prob * calc_entropy(subset[target_name])\n",
        "    \n",
        "    # Return information gain\n",
        "    return original_entropy - to_subtract"
      ],
      "execution_count": 31,
      "outputs": []
    },
    {
      "cell_type": "markdown",
      "metadata": {
        "id": "FXaUqKG4pWc3"
      },
      "source": [
        "# Program to implement perceptron"
      ]
    },
    {
      "cell_type": "code",
      "metadata": {
        "id": "XAIEjZcrslT0",
        "colab": {
          "base_uri": "https://localhost:8080/",
          "height": 279
        },
        "outputId": "1e2618f4-506a-42f7-90b1-59b30f25e40a"
      },
      "source": [
        "#import packages\n",
        "import sklearn.datasets\n",
        "import numpy as np\n",
        "import pandas as pd\n",
        "import matplotlib.pyplot as plt\n",
        "from sklearn.model_selection import train_test_split\n",
        "\n",
        "#load the breast cancer data\n",
        "breast_cancer = sklearn.datasets.load_breast_cancer()\n",
        "\n",
        "#convert the data to pandas dataframe.\n",
        "data = pd.DataFrame(breast_cancer.data, columns = breast_cancer.feature_names)\n",
        "data[\"class\"] = breast_cancer.target\n",
        "data.head()\n",
        "data.describe()\n",
        "\n",
        "#plotting a graph to see class imbalance\n",
        "data['class'].value_counts().plot(kind = \"barh\")\n",
        "plt.xlabel(\"Count\")\n",
        "plt.ylabel(\"Classes\")\n",
        "plt.show()\n",
        "\n",
        "from sklearn.preprocessing import MinMaxScaler\n",
        "#perform scaling on the data.\n",
        "X = data.drop(\"class\", axis = 1)\n",
        "Y = data[\"class\"]\n",
        "mnscaler = MinMaxScaler()\n",
        "X = mnscaler.fit_transform(X)\n",
        "X = pd.DataFrame(X, columns=data.drop(\"class\",axis = 1).columns)\n",
        "\n",
        "#train test split.\n",
        "X_train, X_test, Y_train, Y_test = train_test_split(X,Y, test_size = 0.1, stratify = Y, random_state = 1)\n",
        "class Perceptron:\n",
        "  \n",
        "  #constructor\n",
        "  def _init_ (self):\n",
        "    self.w = None\n",
        "    self.b = None\n",
        "    \n",
        "  #model  \n",
        "  def model(self, x):\n",
        "    return 1 if (np.dot(self.w, x) >= self.b) else 0\n",
        "  \n",
        "  #predictor to predict on the data based on w\n",
        "  def predict(self, X):\n",
        "    Y = []\n",
        "    for x in X:\n",
        "      result = self.model(x)\n",
        "      Y.append(result)\n",
        "    return np.array(Y)\n",
        "    \n",
        "  def fit(self, X, Y, epochs = 1, lr = 1):\n",
        "    self.w = np.ones(X.shape[1])\n",
        "    self.b = 0\n",
        "    accuracy = {}\n",
        "    max_accuracy = 0\n",
        "    wt_matrix = []\n",
        "    #for all epochs\n",
        "    for i in range(epochs):\n",
        "      for x, y in zip(X, Y):\n",
        "        y_pred = self.model(x)\n",
        "        if y == 1 and y_pred == 0:\n",
        "          self.w = self.w + lr * x\n",
        "          self.b = self.b - lr * 1\n",
        "        elif y == 0 and y_pred == 1:\n",
        "          self.w = self.w - lr * x\n",
        "          self.b = self.b + lr * 1\n",
        "          \n",
        "      wt_matrix.append(self.w)    \n",
        "      accuracy[i] = accuracy_score(self.predict(X), Y)\n",
        "      if (accuracy[i] > max_accuracy):\n",
        "        max_accuracy = accuracy[i]\n",
        "        chkptw = self.w\n",
        "        chkptb = self.b\n",
        "    #checkpoint (Save the weights and b value)\n",
        "    self.w = chkptw\n",
        "    self.b = chkptb\n",
        "        \n",
        "    print(max_accuracy)\n",
        "    #plot the accuracy values over epochs\n",
        "    plt.plot(accuracy.values())\n",
        "    plt.xlabel(\"Epoch #\")\n",
        "    plt.ylabel(\"Accuracy\")\n",
        "    plt.ylim([0, 1])\n",
        "    plt.show()\n",
        "    \n",
        "    #return the weight matrix, that contains weights over all epochs\n",
        "    return np.array(wt_matrix)\n",
        "    perceptron = Perceptron()"
      ],
      "execution_count": 32,
      "outputs": [
        {
          "output_type": "display_data",
          "data": {
            "image/png": "[encoded data removed]",
            "text/plain": [
              "<Figure size 432x288 with 1 Axes>"
            ]
          },
          "metadata": {
            "needs_background": "light"
          }
        }
      ]
    },
    {
      "cell_type": "markdown",
      "metadata": {
        "id": "hXm8GIH0sj_k"
      },
      "source": [
        "#**EXERCISE 6**"
      ]
    },
    {
      "cell_type": "markdown",
      "metadata": {
        "id": "Ob2Fx-FTspuF"
      },
      "source": [
        "#  Generate a decision tree.Find thr depth of decision treea and observe the results then propose some changes in DecisionTreeClassifier function to limit"
      ]
    },
    {
      "cell_type": "code",
      "metadata": {
        "colab": {
          "base_uri": "https://localhost:8080/"
        },
        "id": "vWz2gs8Zs4aV",
        "outputId": "2407f877-c7ac-4bea-8afb-13ec1d020240"
      },
      "source": [
        "class Node:\n",
        " \n",
        "   \n",
        "    def __init__(self, data):\n",
        "        self.data = data\n",
        "        self.left = None\n",
        "        self.right = None\n",
        " \n",
        "\n",
        "def maxDepth(node):\n",
        "    if node is None:\n",
        "        return 0 ;\n",
        " \n",
        "    else :\n",
        "        lDepth = maxDepth(node.left)\n",
        "        rDepth = maxDepth(node.right)\n",
        " \n",
        "        \n",
        "        if (lDepth > rDepth):\n",
        "            return lDepth+1\n",
        "        else:\n",
        "            return rDepth+1\n",
        " \n",
        " \n",
        "\n",
        "root = Node(20)\n",
        "root.left = Node(30)\n",
        "root.right = Node(48)\n",
        "root.left.left = Node(15)\n",
        "root.left.right = Node(50)\n",
        " \n",
        " \n",
        "print (\"Height of tree is %d\" %(maxDepth(root)))"
      ],
      "execution_count": 33,
      "outputs": [
        {
          "output_type": "stream",
          "name": "stdout",
          "text": [
            "Height of tree is 3\n"
          ]
        }
      ]
    },
    {
      "cell_type": "markdown",
      "metadata": {
        "id": "UFovDk5_s8tD"
      },
      "source": [
        "# **EXERCISE 7**"
      ]
    },
    {
      "cell_type": "markdown",
      "metadata": {
        "id": "b0pFQGCTs_YV"
      },
      "source": [
        "# Calculating with matrices using numpy : inv,pinv,matrix_rank,solve,lstsq,svd,transpose,eig,sort,linspace,meshgrid,mgrid,ogrid,concatenate,tile,squeeze,integrate ."
      ]
    },
    {
      "cell_type": "code",
      "metadata": {
        "colab": {
          "base_uri": "https://localhost:8080/"
        },
        "id": "POtaTXx7wrGl",
        "outputId": "06477c5d-2bc0-4fcc-c7d1-188f8824c0fb"
      },
      "source": [
        "#inv\n",
        "import numpy as np\n",
        "A = np.array([[3, 1, 2],\n",
        "\t\t\t[5, -1, 3],\n",
        "\t\t\t[2, 9, 4]])\n",
        "print(np.linalg.inv(A))"
      ],
      "execution_count": 34,
      "outputs": [
        {
          "output_type": "stream",
          "name": "stdout",
          "text": [
            "[[ 2.38461538 -1.07692308 -0.38461538]\n",
            " [ 1.07692308 -0.61538462 -0.07692308]\n",
            " [-3.61538462  1.92307692  0.61538462]]\n"
          ]
        }
      ]
    },
    {
      "cell_type": "code",
      "metadata": {
        "colab": {
          "base_uri": "https://localhost:8080/"
        },
        "id": "MVxCcOqpw1Hd",
        "outputId": "4756f532-c15d-41ad-d48a-0a1b51c9bfed"
      },
      "source": [
        "#pinv\n",
        "import numpy as np\n",
        "A = np.array([[1, 4, 7],\n",
        "\t\t\t[5, 4, -3],\n",
        "\t\t\t[-2, 5, 4]])\n",
        "print(np.linalg.pinv(A))"
      ],
      "execution_count": 35,
      "outputs": [
        {
          "output_type": "stream",
          "name": "stdout",
          "text": [
            "[[ 0.15048544  0.09223301 -0.19417476]\n",
            " [-0.06796117  0.08737864  0.18446602]\n",
            " [ 0.16019417 -0.0631068  -0.0776699 ]]\n"
          ]
        }
      ]
    },
    {
      "cell_type": "code",
      "metadata": {
        "colab": {
          "base_uri": "https://localhost:8080/"
        },
        "id": "FBvxdwaqw3VV",
        "outputId": "3756a1fe-894b-48bd-ca70-7dcd3f2967ae"
      },
      "source": [
        "#matrix_rank\n",
        "from numpy.linalg import matrix_rank\n",
        "A = np.array([[1, 4, 7],\n",
        "\t\t\t[5, 4, -3],\n",
        "\t\t\t[-2, 5, 4]])\n",
        "print(np.linalg.matrix_rank(A))"
      ],
      "execution_count": 36,
      "outputs": [
        {
          "output_type": "stream",
          "name": "stdout",
          "text": [
            "3\n"
          ]
        }
      ]
    },
    {
      "cell_type": "code",
      "metadata": {
        "colab": {
          "base_uri": "https://localhost:8080/"
        },
        "id": "458NttCbw6qG",
        "outputId": "cfa68ad3-f243-459d-d691-659974b48d98"
      },
      "source": [
        "#solve\n",
        "a = np.array([[3, 5], [5, 9]])\n",
        "b = np.array([3, 4])\n",
        "x = np.linalg.solve(a, b)\n",
        "x"
      ],
      "execution_count": 37,
      "outputs": [
        {
          "output_type": "execute_result",
          "data": {
            "text/plain": [
              "array([ 3.5, -1.5])"
            ]
          },
          "metadata": {},
          "execution_count": 37
        }
      ]
    },
    {
      "cell_type": "code",
      "metadata": {
        "colab": {
          "base_uri": "https://localhost:8080/"
        },
        "id": "2BlggLskw9MX",
        "outputId": "c5f566f7-8713-492c-fbbf-56dfe1a0566e"
      },
      "source": [
        "# lstsq\n",
        "x = np.array([[0, 1], [2, 3]])\n",
        "y = np.array([[-1, 0.2], [0.9, 2.1]])\n",
        "np.linalg.lstsq(x,y)"
      ],
      "execution_count": 38,
      "outputs": [
        {
          "output_type": "stream",
          "name": "stderr",
          "text": [
            "/usr/local/lib/python3.7/dist-packages/ipykernel_launcher.py:4: FutureWarning: `rcond` parameter will change to the default of machine precision times ``max(M, N)`` where M and N are the input matrix dimensions.\n",
            "To use the future default and silence this warning we advise to pass `rcond=None`, to keep using the old, explicitly pass `rcond=-1`.\n",
            "  after removing the cwd from sys.path.\n"
          ]
        },
        {
          "output_type": "execute_result",
          "data": {
            "text/plain": [
              "(array([[ 1.95,  0.75],\n",
              "        [-1.  ,  0.2 ]]),\n",
              " array([], dtype=float64),\n",
              " 2,\n",
              " array([3.70245917, 0.54018151]))"
            ]
          },
          "metadata": {},
          "execution_count": 38
        }
      ]
    },
    {
      "cell_type": "code",
      "metadata": {
        "colab": {
          "base_uri": "https://localhost:8080/"
        },
        "id": "9mETs171w_HM",
        "outputId": "8a8a63f6-32ba-4ac0-88e0-5ea12577200c"
      },
      "source": [
        "#svd\n",
        "a = np.random.randn(9, 6) + 1j*np.random.randn(9, 6)\n",
        "b = np.random.randn(2, 7, 8, 3) + 1j*np.random.randn(2, 7, 8, 3)\n",
        "u, s, vh = np.linalg.svd(a, full_matrices=True)\n",
        "u.shape, s.shape, vh.shape"
      ],
      "execution_count": 39,
      "outputs": [
        {
          "output_type": "execute_result",
          "data": {
            "text/plain": [
              "((9, 9), (6,), (6, 6))"
            ]
          },
          "metadata": {},
          "execution_count": 39
        }
      ]
    },
    {
      "cell_type": "code",
      "metadata": {
        "colab": {
          "base_uri": "https://localhost:8080/"
        },
        "id": "5GFzWIuQxBK8",
        "outputId": "d0d3b77a-71fd-4261-f125-104b4b021d69"
      },
      "source": [
        "#transpose\n",
        "a = np.array([[1, 2], [3, 4]])\n",
        "a.transpose()"
      ],
      "execution_count": 40,
      "outputs": [
        {
          "output_type": "execute_result",
          "data": {
            "text/plain": [
              "array([[1, 3],\n",
              "       [2, 4]])"
            ]
          },
          "metadata": {},
          "execution_count": 40
        }
      ]
    },
    {
      "cell_type": "code",
      "metadata": {
        "colab": {
          "base_uri": "https://localhost:8080/"
        },
        "id": "EFn-WsuCxC42",
        "outputId": "7ccdd514-fa35-46a1-eb8e-cf18a79b7a2d"
      },
      "source": [
        "#eig\n",
        "from numpy import linalg as LA\n",
        "w, v = LA.eig(np.diag((1, 2, 3)))\n",
        "v"
      ],
      "execution_count": 41,
      "outputs": [
        {
          "output_type": "execute_result",
          "data": {
            "text/plain": [
              "array([[1., 0., 0.],\n",
              "       [0., 1., 0.],\n",
              "       [0., 0., 1.]])"
            ]
          },
          "metadata": {},
          "execution_count": 41
        }
      ]
    },
    {
      "cell_type": "code",
      "metadata": {
        "colab": {
          "base_uri": "https://localhost:8080/"
        },
        "id": "KeZwN9b1xFAo",
        "outputId": "93237b03-e328-4e5f-a4cc-d77303044049"
      },
      "source": [
        "#sort\n",
        "a = np.array([[1,4],[3,1]])\n",
        "np.sort(a) "
      ],
      "execution_count": 42,
      "outputs": [
        {
          "output_type": "execute_result",
          "data": {
            "text/plain": [
              "array([[1, 4],\n",
              "       [1, 3]])"
            ]
          },
          "metadata": {},
          "execution_count": 42
        }
      ]
    },
    {
      "cell_type": "code",
      "metadata": {
        "colab": {
          "base_uri": "https://localhost:8080/"
        },
        "id": "wTPlnIOSxGnF",
        "outputId": "685d4ded-329f-4853-9d78-ec9a4f666122"
      },
      "source": [
        "#linspace\n",
        "a=np.linspace(2.0, 3.0, num=7)\n",
        "a"
      ],
      "execution_count": 43,
      "outputs": [
        {
          "output_type": "execute_result",
          "data": {
            "text/plain": [
              "array([2.        , 2.16666667, 2.33333333, 2.5       , 2.66666667,\n",
              "       2.83333333, 3.        ])"
            ]
          },
          "metadata": {},
          "execution_count": 43
        }
      ]
    },
    {
      "cell_type": "code",
      "metadata": {
        "colab": {
          "base_uri": "https://localhost:8080/"
        },
        "id": "BsH8feHCxIdm",
        "outputId": "9448ce24-4901-4f2d-a76b-07016b2efb38"
      },
      "source": [
        "#meshgrid\n",
        "nx, ny = (3, 3)\n",
        "x = np.linspace(0, 5, nx)\n",
        "y = np.linspace(0, 5, ny)\n",
        "xv, yv = np.meshgrid(x, y)\n",
        "print(xv,\"\\n\")\n",
        "print(yv)"
      ],
      "execution_count": 44,
      "outputs": [
        {
          "output_type": "stream",
          "name": "stdout",
          "text": [
            "[[0.  2.5 5. ]\n",
            " [0.  2.5 5. ]\n",
            " [0.  2.5 5. ]] \n",
            "\n",
            "[[0.  0.  0. ]\n",
            " [2.5 2.5 2.5]\n",
            " [5.  5.  5. ]]\n"
          ]
        }
      ]
    },
    {
      "cell_type": "code",
      "metadata": {
        "colab": {
          "base_uri": "https://localhost:8080/"
        },
        "id": "N0cmCJxkxLwB",
        "outputId": "82dcb43d-476b-4cab-a667-72c73ad122f7"
      },
      "source": [
        "#mgrid\n",
        "np.mgrid[0:3,0:7]"
      ],
      "execution_count": 45,
      "outputs": [
        {
          "output_type": "execute_result",
          "data": {
            "text/plain": [
              "array([[[0, 0, 0, 0, 0, 0, 0],\n",
              "        [1, 1, 1, 1, 1, 1, 1],\n",
              "        [2, 2, 2, 2, 2, 2, 2]],\n",
              "\n",
              "       [[0, 1, 2, 3, 4, 5, 6],\n",
              "        [0, 1, 2, 3, 4, 5, 6],\n",
              "        [0, 1, 2, 3, 4, 5, 6]]])"
            ]
          },
          "metadata": {},
          "execution_count": 45
        }
      ]
    },
    {
      "cell_type": "code",
      "metadata": {
        "colab": {
          "base_uri": "https://localhost:8080/"
        },
        "id": "QUP7xGAoxOl2",
        "outputId": "a54e4371-5420-4bdc-c366-bea63a2cdf4f"
      },
      "source": [
        "#ogrid\n",
        "from numpy import ogrid\n",
        "ogrid[0:3,0:7]"
      ],
      "execution_count": 46,
      "outputs": [
        {
          "output_type": "execute_result",
          "data": {
            "text/plain": [
              "[array([[0],\n",
              "        [1],\n",
              "        [2]]), array([[0, 1, 2, 3, 4, 5, 6]])]"
            ]
          },
          "metadata": {},
          "execution_count": 46
        }
      ]
    },
    {
      "cell_type": "code",
      "metadata": {
        "colab": {
          "base_uri": "https://localhost:8080/"
        },
        "id": "hrQXxCrwxPam",
        "outputId": "af9b7998-a358-463b-9fae-b88739c418d4"
      },
      "source": [
        "#concatenate\n",
        "a = np.array([[3, 7], [6, 8]])\n",
        "b = np.array([[11, 15]])\n",
        "np.concatenate((a, b), axis=0)"
      ],
      "execution_count": 47,
      "outputs": [
        {
          "output_type": "execute_result",
          "data": {
            "text/plain": [
              "array([[ 3,  7],\n",
              "       [ 6,  8],\n",
              "       [11, 15]])"
            ]
          },
          "metadata": {},
          "execution_count": 47
        }
      ]
    },
    {
      "cell_type": "code",
      "metadata": {
        "colab": {
          "base_uri": "https://localhost:8080/"
        },
        "id": "Krro5NoDxRfQ",
        "outputId": "5852f2f1-c11e-4e7d-fc1e-7281f18dfa10"
      },
      "source": [
        "#tile\n",
        "a = np.array([0, 1, 2])\n",
        "np.tile(a, [2,3])"
      ],
      "execution_count": 48,
      "outputs": [
        {
          "output_type": "execute_result",
          "data": {
            "text/plain": [
              "array([[0, 1, 2, 0, 1, 2, 0, 1, 2],\n",
              "       [0, 1, 2, 0, 1, 2, 0, 1, 2]])"
            ]
          },
          "metadata": {},
          "execution_count": 48
        }
      ]
    },
    {
      "cell_type": "code",
      "metadata": {
        "colab": {
          "base_uri": "https://localhost:8080/"
        },
        "id": "J_hxzEicxTSW",
        "outputId": "26a5988a-f3b7-491b-b629-f2cc60750255"
      },
      "source": [
        "#squeeze\n",
        "x = np.array([[[0,2], [1,4], [2,3]]])\n",
        "x.shape\n",
        "np.squeeze(x).shape"
      ],
      "execution_count": 49,
      "outputs": [
        {
          "output_type": "execute_result",
          "data": {
            "text/plain": [
              "(3, 2)"
            ]
          },
          "metadata": {},
          "execution_count": 49
        }
      ]
    },
    {
      "cell_type": "code",
      "metadata": {
        "colab": {
          "base_uri": "https://localhost:8080/"
        },
        "id": "ugNyySqYxXIY",
        "outputId": "9f201c52-af12-4ac4-e658-7b1d84288d7d"
      },
      "source": [
        "#integrate\n",
        "def integrate(f, a, b, N):\n",
        "    x = np.linspace(a, b, N)\n",
        "    fx = f(x)\n",
        "    area = np.sum(fx)*(b-a)/N\n",
        "    return area\n",
        "integrate(np.sin, 0, np.pi/2, 100)"
      ],
      "execution_count": 50,
      "outputs": [
        {
          "output_type": "execute_result",
          "data": {
            "text/plain": [
              "0.9978332121772983"
            ]
          },
          "metadata": {},
          "execution_count": 50
        }
      ]
    },
    {
      "cell_type": "markdown",
      "metadata": {
        "id": "Trj_5UWztH-W"
      },
      "source": [
        "# **EXERCISE 8**"
      ]
    },
    {
      "cell_type": "markdown",
      "metadata": {
        "id": "Z7lbsSqOtKcF"
      },
      "source": [
        "# PROGRAM USING PANDA"
      ]
    },
    {
      "cell_type": "code",
      "metadata": {
        "colab": {
          "base_uri": "https://localhost:8080/"
        },
        "id": "MdXWZj4ZtJp9",
        "outputId": "3fc2b7ee-34ac-4759-94f0-1b3993f49100"
      },
      "source": [
        "#Series\n",
        "print(\"CREATING SERIES\")\n",
        "import pandas as pd\n",
        "import numpy as np\n",
        "t=pd.Series([11,33,55,66,88])\n",
        "s=pd.Series([11,33,55,66,88],index=(10,11,12,13,14))\n",
        "print(s)\n",
        "print(s[:3])\n",
        "print(s[:-3])\n",
        "print(s[-3:])\n",
        "print(\"-----------------------------------------\")\n",
        "#coverting numpy array to series \n",
        "data=np.array(['a','b','c','d'])\n",
        "s=pd.Series(data)\n",
        "t=pd.Series(data,index=[100,101,102,103])\n",
        "print(s)\n",
        "print(t)\n",
        "print(\"----------------------------------------------\")\n",
        "#converting dictionary to series\n",
        "data={'a':0.,'b':1.,'c':2.}\n",
        "s=pd.Series(data,dtype=int)\n",
        "t=pd.Series(data,index=[100,101,102,103])\n",
        "print(s)\n",
        "print(t)\n",
        "print(\"__________\")\n",
        "#Dataframe\n",
        "print(\"CREATING DATAFRAME\")\n",
        "data=[['IRON MAN',49],['SPIDER MAN',20],['WONDER WOMAN',40],['CAPTAIN AMERICA',39]]\n",
        "print(data)\n",
        "print('......')\n",
        "x=pd.DataFrame(data)#normal dataframe\n",
        "print(x)\n",
        "print('.......')\n",
        "x=pd.DataFrame(data,index=['row1','row2','row3','row4'])#dataframe with index changes\n",
        "print(x)\n",
        "print('......')\n",
        "x=pd.DataFrame(data,columns=['Name','Age'])\n",
        "print(x)\n",
        "print('......')\n",
        "x=pd.DataFrame(data,index=['row1','row2','row3','row4'],columns=['Name','Age'])\n",
        "print(x)\n",
        "print('......')\n",
        "print(x.shape)#shape\n",
        "print('.......')\n",
        "print(x.T)#transpose of matrix\n",
        "print('.......')\n",
        "print(x.dtypes)\n",
        "print(\"__________\")\n",
        "#Adding a new column using pandas\n",
        "d = {'one' : pd.Series([1, 2, 3], index=['a', 'b', 'c']),\n",
        "   'two' : pd.Series([1, 2, 3, 4], index=['a', 'b', 'c', 'd'])}\n",
        "df = pd.DataFrame(d)\n",
        "print(df)\n",
        "print('...........')\n",
        "print (\"Adding a new column by passing as Series:\")\n",
        "df['three']=pd.Series([10,20,30],index=['a','b','c'])\n",
        "df['four'] = pd.Series([100, 200, 300])\n",
        "print(df)\n",
        "print('.....')\n",
        "print (\"Adding a new column using the existing columns in DataFrame:\")\n",
        "df['five']=df['one']*df['three']\n",
        "print(df)"
      ],
      "execution_count": 51,
      "outputs": [
        {
          "output_type": "stream",
          "name": "stdout",
          "text": [
            "CREATING SERIES\n",
            "10    11\n",
            "11    33\n",
            "12    55\n",
            "13    66\n",
            "14    88\n",
            "dtype: int64\n",
            "10    11\n",
            "11    33\n",
            "12    55\n",
            "dtype: int64\n",
            "10    11\n",
            "11    33\n",
            "dtype: int64\n",
            "12    55\n",
            "13    66\n",
            "14    88\n",
            "dtype: int64\n",
            "-----------------------------------------\n",
            "0    a\n",
            "1    b\n",
            "2    c\n",
            "3    d\n",
            "dtype: object\n",
            "100    a\n",
            "101    b\n",
            "102    c\n",
            "103    d\n",
            "dtype: object\n",
            "----------------------------------------------\n",
            "a    0\n",
            "b    1\n",
            "c    2\n",
            "dtype: int64\n",
            "100   NaN\n",
            "101   NaN\n",
            "102   NaN\n",
            "103   NaN\n",
            "dtype: float64\n",
            "__________\n",
            "CREATING DATAFRAME\n",
            "[['IRON MAN', 49], ['SPIDER MAN', 20], ['WONDER WOMAN', 40], ['CAPTAIN AMERICA', 39]]\n",
            "......\n",
            "                 0   1\n",
            "0         IRON MAN  49\n",
            "1       SPIDER MAN  20\n",
            "2     WONDER WOMAN  40\n",
            "3  CAPTAIN AMERICA  39\n",
            ".......\n",
            "                    0   1\n",
            "row1         IRON MAN  49\n",
            "row2       SPIDER MAN  20\n",
            "row3     WONDER WOMAN  40\n",
            "row4  CAPTAIN AMERICA  39\n",
            "......\n",
            "              Name  Age\n",
            "0         IRON MAN   49\n",
            "1       SPIDER MAN   20\n",
            "2     WONDER WOMAN   40\n",
            "3  CAPTAIN AMERICA   39\n",
            "......\n",
            "                 Name  Age\n",
            "row1         IRON MAN   49\n",
            "row2       SPIDER MAN   20\n",
            "row3     WONDER WOMAN   40\n",
            "row4  CAPTAIN AMERICA   39\n",
            "......\n",
            "(4, 2)\n",
            ".......\n",
            "          row1        row2          row3             row4\n",
            "Name  IRON MAN  SPIDER MAN  WONDER WOMAN  CAPTAIN AMERICA\n",
            "Age         49          20            40               39\n",
            ".......\n",
            "Name    object\n",
            "Age      int64\n",
            "dtype: object\n",
            "__________\n",
            "   one  two\n",
            "a  1.0    1\n",
            "b  2.0    2\n",
            "c  3.0    3\n",
            "d  NaN    4\n",
            "...........\n",
            "Adding a new column by passing as Series:\n",
            "   one  two  three  four\n",
            "a  1.0    1   10.0   NaN\n",
            "b  2.0    2   20.0   NaN\n",
            "c  3.0    3   30.0   NaN\n",
            "d  NaN    4    NaN   NaN\n",
            ".....\n",
            "Adding a new column using the existing columns in DataFrame:\n",
            "   one  two  three  four  five\n",
            "a  1.0    1   10.0   NaN  10.0\n",
            "b  2.0    2   20.0   NaN  40.0\n",
            "c  3.0    3   30.0   NaN  90.0\n",
            "d  NaN    4    NaN   NaN   NaN\n"
          ]
        }
      ]
    },
    {
      "cell_type": "markdown",
      "metadata": {
        "id": "PG49Xq6htPJU"
      },
      "source": [
        "# PROGRAMS USING MATPLOTLIB - USE MINIMUM 5 PLOTTING TECHNIQUES"
      ]
    },
    {
      "cell_type": "code",
      "metadata": {
        "id": "29FzoNlktV4M"
      },
      "source": [
        "import matplotlib.pyplot as plt"
      ],
      "execution_count": 52,
      "outputs": []
    },
    {
      "cell_type": "code",
      "metadata": {
        "colab": {
          "base_uri": "https://localhost:8080/",
          "height": 295
        },
        "id": "7snkLgMj24Sg",
        "outputId": "11e338c1-c69c-4033-c96e-5e33a7cc9a0d"
      },
      "source": [
        "days = [1,2,3,4,5,6,7,8,9,10]\n",
        "sales = [100,328,310,120,448,257,145,810,722,191]\n",
        "plt.plot(days,sales,'g+--')\n",
        "plt.title(\"Days vs. Sales\")\n",
        "plt.xlabel(\"Days\")\n",
        "plt.ylabel(\"Sales\")\n",
        "plt.show()"
      ],
      "execution_count": 53,
      "outputs": [
        {
          "output_type": "display_data",
          "data": {
            "image/png": "[encoded data removed]",
            "text/plain": [
              "<Figure size 432x288 with 1 Axes>"
            ]
          },
          "metadata": {
            "needs_background": "light"
          }
        }
      ]
    },
    {
      "cell_type": "code",
      "metadata": {
        "colab": {
          "base_uri": "https://localhost:8080/",
          "height": 312
        },
        "id": "bIi4lgrk26OG",
        "outputId": "95087ccf-3543-4cee-ab6e-696773a5a2fd"
      },
      "source": [
        "import math\n",
        "x = np.linspace(0,2*math.pi,100)\n",
        "y = np.sin(x)\n",
        "plt.plot(x,y)\n",
        "plt.axhline(y=0)\n",
        "\n",
        "plt.title(\"Sine Wave\")\n",
        "plt.xlabel(\"Time\")\n",
        "plt.ylabel(\"Frequency\")"
      ],
      "execution_count": 54,
      "outputs": [
        {
          "output_type": "execute_result",
          "data": {
            "text/plain": [
              "Text(0, 0.5, 'Frequency')"
            ]
          },
          "metadata": {},
          "execution_count": 54
        },
        {
          "output_type": "display_data",
          "data": {
            "image/png": "[encoded data removed]",
            "text/plain": [
              "<Figure size 432x288 with 1 Axes>"
            ]
          },
          "metadata": {
            "needs_background": "light"
          }
        }
      ]
    },
    {
      "cell_type": "code",
      "metadata": {
        "colab": {
          "base_uri": "https://localhost:8080/",
          "height": 295
        },
        "id": "9i7pR2TZ29Cf",
        "outputId": "2db1f098-4aad-4d24-cfe9-d4a8d3c61608"
      },
      "source": [
        "#SCATTER PLOT\n",
        "days = [1,2,3,4,5,6,7,8,9,10]\n",
        "sales = [10,38,30,20,48,57,45,80,72,91]\n",
        "plt.scatter(days,sales,marker=\"D\")\n",
        "plt.title(\"Days vs. Sales\")\n",
        "plt.xlabel(\"Days\")\n",
        "plt.ylabel(\"Sales\")\n",
        "plt.show()"
      ],
      "execution_count": 55,
      "outputs": [
        {
          "output_type": "display_data",
          "data": {
            "image/png": "[encoded data removed]",
            "text/plain": [
              "<Figure size 432x288 with 1 Axes>"
            ]
          },
          "metadata": {
            "needs_background": "light"
          }
        }
      ]
    },
    {
      "cell_type": "code",
      "metadata": {
        "colab": {
          "base_uri": "https://localhost:8080/",
          "height": 248
        },
        "id": "anIHtsED3EPH",
        "outputId": "4b6bbe02-c04e-40d6-ed8b-ad86ed289509"
      },
      "source": [
        "#PIE CHART\n",
        "x = [25,30,20,10,15]\n",
        "\n",
        "labels = ['U','V','W','X','Y']\n",
        "plt.pie(x,labels=labels,shadow=True,startangle=90,explode=[0.1,0.1,0.1,0.1,0.1\n",
        "                                                          ])\n",
        "plt.show()"
      ],
      "execution_count": 56,
      "outputs": [
        {
          "output_type": "display_data",
          "data": {
            "image/png": "[encoded data removed]",
            "text/plain": [
              "<Figure size 432x288 with 1 Axes>"
            ]
          },
          "metadata": {}
        }
      ]
    },
    {
      "cell_type": "code",
      "metadata": {
        "colab": {
          "base_uri": "https://localhost:8080/",
          "height": 265
        },
        "id": "maArGPUL3F--",
        "outputId": "99723520-a0b3-4c87-ba67-575554b05711"
      },
      "source": [
        "#HISTOGRAM\n",
        "import matplotlib.pyplot as plt\n",
        "import numpy as np\n",
        "\n",
        "x = np.random.normal(500,15,250)\n",
        "\n",
        "plt.hist(x,bins=20)\n",
        "plt.show()"
      ],
      "execution_count": 57,
      "outputs": [
        {
          "output_type": "display_data",
          "data": {
            "image/png": "[encoded data removed]",
            "text/plain": [
              "<Figure size 432x288 with 1 Axes>"
            ]
          },
          "metadata": {
            "needs_background": "light"
          }
        }
      ]
    },
    {
      "cell_type": "code",
      "metadata": {
        "colab": {
          "base_uri": "https://localhost:8080/",
          "height": 265
        },
        "id": "dkjZ2j353J-h",
        "outputId": "fd871f5f-2b98-45a6-dc81-09a1ee723585"
      },
      "source": [
        "#BAR GRAPH\n",
        "y = [1220,145,130,615,710]\n",
        "x = [\"Day1\",\"Day2\",\"Day3\",\"Day4\",\"Day5\"]\n",
        "\n",
        "plt.bar(x,y)\n",
        "plt.show()"
      ],
      "execution_count": 58,
      "outputs": [
        {
          "output_type": "display_data",
          "data": {
            "image/png": "[encoded data removed]",
            "text/plain": [
              "<Figure size 432x288 with 1 Axes>"
            ]
          },
          "metadata": {
            "needs_background": "light"
          }
        }
      ]
    },
    {
      "cell_type": "markdown",
      "metadata": {
        "id": "lYjDJnrCtZMM"
      },
      "source": [
        "# **EXERCISE 9**"
      ]
    },
    {
      "cell_type": "markdown",
      "metadata": {
        "id": "VYyiAwUEtbOk"
      },
      "source": [
        "# GRAPHS USING MATPLOTLIB"
      ]
    },
    {
      "cell_type": "code",
      "metadata": {
        "id": "9c5kCFNtteXE"
      },
      "source": [
        "import pandas as pd\n",
        "import numpy as np\n",
        "import matplotlib.pyplot as plt\n",
        "\n"
      ],
      "execution_count": 59,
      "outputs": []
    },
    {
      "cell_type": "code",
      "metadata": {
        "id": "tlBp0OOe3vKu"
      },
      "source": [
        "sno = np.arange(1,101)\n",
        "age = np.random.randint(205,630,100)\n",
        "salary = np.random.randint(100000,600000,100)\n",
        "\n",
        "df = pd.DataFrame()\n",
        "df['Sno'] = sno\n",
        "df['Age'] = age\n",
        "df['Salary'] = salary"
      ],
      "execution_count": 60,
      "outputs": []
    },
    {
      "cell_type": "code",
      "metadata": {
        "id": "XnnYpzmT3x8l",
        "colab": {
          "base_uri": "https://localhost:8080/",
          "height": 281
        },
        "outputId": "77804a32-13c6-49ee-81d6-91801e0ed5c2"
      },
      "source": [
        "plt.hist(df.Age,bins=15,rwidth=0.5)\n",
        "plt.title(\"Histogram of Ages\")\n",
        "plt.show()"
      ],
      "execution_count": 61,
      "outputs": [
        {
          "output_type": "display_data",
          "data": {
            "image/png": "[encoded data removed]",
            "text/plain": [
              "<Figure size 432x288 with 1 Axes>"
            ]
          },
          "metadata": {
            "needs_background": "light"
          }
        }
      ]
    },
    {
      "cell_type": "code",
      "metadata": {
        "id": "df4_hTtr30K2",
        "colab": {
          "base_uri": "https://localhost:8080/",
          "height": 295
        },
        "outputId": "db8fa728-e0c1-4d30-9f01-b178e4e70126"
      },
      "source": [
        "plt.scatter(df.Age,df.Salary)\n",
        "plt.title(\"Age vs. Salary\")\n",
        "plt.xlabel(\"Age\")\n",
        "plt.ylabel(\"Salary\")\n",
        "plt.show()"
      ],
      "execution_count": 62,
      "outputs": [
        {
          "output_type": "display_data",
          "data": {
            "image/png": "[encoded data removed]",
            "text/plain": [
              "<Figure size 432x288 with 1 Axes>"
            ]
          },
          "metadata": {
            "needs_background": "light"
          }
        }
      ]
    },
    {
      "cell_type": "code",
      "metadata": {
        "id": "DspxJkSy32UW",
        "colab": {
          "base_uri": "https://localhost:8080/",
          "height": 265
        },
        "outputId": "e23631e5-0d55-4b37-b9a6-eca64f530b6d"
      },
      "source": [
        "plt.plot(df.Salary)\n",
        "plt.show()"
      ],
      "execution_count": 63,
      "outputs": [
        {
          "output_type": "display_data",
          "data": {
            "image/png": "[encoded data removed]",
            "text/plain": [
              "<Figure size 432x288 with 1 Axes>"
            ]
          },
          "metadata": {
            "needs_background": "light"
          }
        }
      ]
    },
    {
      "cell_type": "code",
      "metadata": {
        "id": "lb2czrzS341J",
        "colab": {
          "base_uri": "https://localhost:8080/",
          "height": 279
        },
        "outputId": "8678537e-a06a-47bb-f598-abf001123dbe"
      },
      "source": [
        "plt.bar(df.Age,df.Salary)\n",
        "plt.xlabel(\"Age\")\n",
        "plt.ylabel(\"Salary\")\n",
        "plt.show()"
      ],
      "execution_count": 64,
      "outputs": [
        {
          "output_type": "display_data",
          "data": {
            "image/png": "[encoded data removed]",
            "text/plain": [
              "<Figure size 432x288 with 1 Axes>"
            ]
          },
          "metadata": {
            "needs_background": "light"
          }
        }
      ]
    },
    {
      "cell_type": "markdown",
      "metadata": {
        "id": "kJLLKsAnto_r"
      },
      "source": [
        "# **EXERCISE 10**"
      ]
    },
    {
      "cell_type": "markdown",
      "metadata": {
        "id": "bc11soaOtehm"
      },
      "source": [
        "# VECTOR USING MATPLOTLIB"
      ]
    },
    {
      "cell_type": "code",
      "metadata": {
        "colab": {
          "base_uri": "https://localhost:8080/",
          "height": 261
        },
        "id": "W59S-iuVtkf1",
        "outputId": "73eae54c-ab27-4679-dea3-38d19d03693b"
      },
      "source": [
        "import numpy as np\n",
        "from matplotlib import pyplot as plt\n",
        "plt.rcParams[\"figure.figsize\"] = [7.00, 3.50]\n",
        "plt.rcParams[\"figure.autolayout\"] = True\n",
        "data = np.array([[2, 1], [-1, 2], [4, -1]])\n",
        "origin = np.array([[0, 0, 0], [0, 0, 0]])\n",
        "plt.quiver(*origin, data[:, 0], data[:, 1], color=['black', 'red', 'green'], scale=15)\n",
        "plt.show()"
      ],
      "execution_count": 65,
      "outputs": [
        {
          "output_type": "display_data",
          "data": {
            "image/png": "[encoded data removed]",
            "text/plain": [
              "<Figure size 504x252 with 1 Axes>"
            ]
          },
          "metadata": {
            "needs_background": "light"
          }
        }
      ]
    },
    {
      "cell_type": "markdown",
      "metadata": {
        "id": "F0pPxkk1tkqk"
      },
      "source": [
        "# **EXERCISE 11**"
      ]
    },
    {
      "cell_type": "markdown",
      "metadata": {
        "id": "5Gy7G4ajt4yv"
      },
      "source": [
        "# PROGRAM TO ESTIMATE OCCUPANCY USING DECISION TREE"
      ]
    },
    {
      "cell_type": "code",
      "metadata": {
        "id": "qy-V1KQSuBx7"
      },
      "source": [
        ""
      ],
      "execution_count": 65,
      "outputs": []
    }
  ]
}